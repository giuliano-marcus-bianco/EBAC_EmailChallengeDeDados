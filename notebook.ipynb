{
  "cells": [
    {
      "cell_type": "markdown",
      "metadata": {
        "id": "KJqp9AANOCtf"
      },
      "source": [
        "<img src=\"https://raw.githubusercontent.com/andre-marcos-perez/ebac-course-utils/main/media/logo/newebac_logo_black_half.png\" alt=\"ebac-logo\">\n",
        "\n",
        "---\n",
        "\n",
        "# **Aula** | Análise Exploratória de Dados com Python: Eleições de 2022\n",
        "Professor [André Perez](https://www.linkedin.com/in/andremarcosperez/)<br>\n",
        "01/12/2022\n",
        "\n",
        "---"
      ]
    },
    {
      "cell_type": "markdown",
      "metadata": {
        "id": "d9jDtUbDOE1-"
      },
      "source": [
        "# **Tópicos**\n",
        "\n",
        "<ol type=\"1\">\n",
        "  <li>Introdução;</li>\n",
        "  <li>Exploração;</li>\n",
        "  <li>Processamento;</li>\n",
        "  <li>Visualização;</li>\n",
        "  <li>Divulgação.</li>\n",
        "</ol>"
      ]
    },
    {
      "cell_type": "markdown",
      "metadata": {
        "id": "SmoHgt-lwkpD"
      },
      "source": [
        "---"
      ]
    },
    {
      "cell_type": "markdown",
      "metadata": {
        "id": "GABI6OW8OfQ2"
      },
      "source": [
        "# **Aulas**"
      ]
    },
    {
      "cell_type": "markdown",
      "metadata": {
        "id": "-Rig-cljwJdi"
      },
      "source": [
        "## 1\\. Introdução"
      ]
    },
    {
      "cell_type": "markdown",
      "metadata": {
        "id": "lNGqwyhiE1vq"
      },
      "source": [
        "Nesta aula, vamos entender o contexto de negócio que estamos inseridos e aprender a utilizar o Google Colab."
      ]
    },
    {
      "cell_type": "markdown",
      "metadata": {
        "id": "Ay4UkojwGskg"
      },
      "source": [
        "### **1.1. Contexto** "
      ]
    },
    {
      "cell_type": "markdown",
      "metadata": {
        "id": "JUonSt7kxZyj"
      },
      "source": [
        "O tribunal superior eleitoral (TSE) disponibilizou os dados brutos das urnas de votação utilizadas durante o processo eleitoral de 2022. No site do TSE ([link](https://resultados.tse.jus.br/oficial/app/index.html#/eleicao/resultados)) encontra-se os seguintes dados para cada urna:"
      ]
    },
    {
      "cell_type": "markdown",
      "metadata": {
        "id": "M5K99BBs9C1Q"
      },
      "source": [
        " - **Registro Digital do Voto (RDV)**: Registro unitário dos votos;\n",
        " - **Boletim de Urna**: Resultados agregados;\n",
        " - **Log de Urna**: Todos os eventos que ocorreram na urna."
      ]
    },
    {
      "cell_type": "markdown",
      "metadata": {
        "id": "KIzpIja__Xob"
      },
      "source": [
        "A documentação técnica para o processamento dos arquivo também se encontra no website do TSE ([link](https://www.tse.jus.br/eleicoes/eleicoes-2022/documentacao-tecnica-do-software-da-urna-eletronica))."
      ]
    },
    {
      "cell_type": "markdown",
      "metadata": {
        "id": "19a6O3YOhlmq"
      },
      "source": [
        "> Para uma única urna (estado, cidade, zona e seção), vamos utilizar o **Python** para processar o seu arquivo **RDV** e replicar os valores agregados do seu **Boletim de Urna** para o segundo turno de votação para presidente do processo eleitoral de 2022."
      ]
    },
    {
      "cell_type": "markdown",
      "metadata": {
        "id": "muD1vxozykSC"
      },
      "source": [
        "### **1.2. Google Colab**"
      ]
    },
    {
      "cell_type": "markdown",
      "metadata": {
        "id": "xT1ohV3t0FQJ"
      },
      "source": [
        "> Ferramenta web autogerênciada de cadernos (*notebooks*)."
      ]
    },
    {
      "cell_type": "markdown",
      "metadata": {
        "id": "5a3_syBIP6yO"
      },
      "source": [
        "**Ferramenta web**"
      ]
    },
    {
      "cell_type": "markdown",
      "metadata": {
        "id": "xF1tFQyRQag2"
      },
      "source": [
        "\n",
        "\n",
        "*   Crie uma conta Google em [gmail.com](https://gmail.com);\n",
        "*   Acesse o Google Colab através do endereço [colab.research.google.com](https://colab.research.google.com/).\n",
        "\n",
        "\n"
      ]
    },
    {
      "cell_type": "markdown",
      "metadata": {
        "id": "VkIgtLmhQRDV"
      },
      "source": [
        "**Autogerênciada** "
      ]
    },
    {
      "cell_type": "markdown",
      "metadata": {
        "id": "P14BSbuH0SQB"
      },
      "source": [
        "\n",
        "\n",
        "*   A Google provisiona uma máquina virtual para você;\n",
        "*   A máquina virtual dura no máximo 12h.\n",
        "\n"
      ]
    },
    {
      "cell_type": "markdown",
      "metadata": {
        "id": "mIgaH380QG2e"
      },
      "source": [
        "**Cadernos (*notebooks*)** "
      ]
    },
    {
      "cell_type": "markdown",
      "metadata": {
        "id": "_4Q4H0RKm-4G"
      },
      "source": [
        "Um **caderno** é um documento *web* composto por um conjunto de elementos (células) de texto e código:\n",
        "\n",
        "\n",
        "*   Células de **texto** podem ser editados com o editor da ferramenta, HTML ou Markdown; \n",
        "*   Células de **código** são exclusivamente para a linguagem de programação Python.\n",
        "\n"
      ]
    },
    {
      "cell_type": "code",
      "execution_count": null,
      "metadata": {
        "id": "ILZGen4Ob_vC"
      },
      "outputs": [],
      "source": [
        "print(\"olá, mundo!\")"
      ]
    },
    {
      "cell_type": "markdown",
      "metadata": {
        "id": "EvJTE2FpaGeU"
      },
      "source": [
        "## 2\\. Exploração"
      ]
    },
    {
      "cell_type": "markdown",
      "metadata": {
        "id": "ISYXZbomlb1x"
      },
      "source": [
        "Nesta aula vamos explorar, limpar e extrair os votos do arquivo RDV."
      ]
    },
    {
      "cell_type": "markdown",
      "metadata": {
        "id": "DDpx-CqDoEMB"
      },
      "source": [
        "### **2.1. Upload** "
      ]
    },
    {
      "cell_type": "markdown",
      "metadata": {
        "id": "aY9hV7LkoEQv"
      },
      "source": [
        "No site de resultados do TSE ([link](https://resultados.tse.jus.br/oficial/app/index.html)), selecione os dados de uma única urna, faça o *download* do arquivo RDV e então, o seu *upload* no ambiente do Google Colab. "
      ]
    },
    {
      "cell_type": "markdown",
      "metadata": {
        "id": "8lvsCpnSoR0k"
      },
      "source": [
        "### **2.2. Descriptografia** "
      ]
    },
    {
      "cell_type": "markdown",
      "metadata": {
        "id": "ue3LBOvcap6Z"
      },
      "source": [
        "Vamos utilizar o código disponibilizado pelo próprio TSE ([link](https://www.tse.jus.br/eleicoes/eleicoes-2022/documentacao-tecnica-do-software-da-urna-eletronica)) para descriptografar o arquivo RDV em um arquivo de texto. O código foi replicado neste [link](https://raw.githubusercontent.com/andre-marcos-perez/ebac-course-utils/develop/notebooks/2022_11_29/rdv.py) para facilitar a sua integração com o Google Colab."
      ]
    },
    {
      "cell_type": "markdown",
      "metadata": {
        "id": "Y2XahMe2BMQM"
      },
      "source": [
        " - Faça o *download* do código de descriptografia."
      ]
    },
    {
      "cell_type": "code",
      "execution_count": 2,
      "metadata": {
        "id": "bamgYxoFYPjM"
      },
      "outputs": [],
      "source": [
        "# !curl -s https://raw.githubusercontent.com/andre-marcos-perez/ebac-course-utils/develop/notebooks/2022_11_29/rdv.py -o rdv.py\n",
        "\n",
        "# utilizei o site https://www.scrapingbee.com/curl-converter/python/ para converter o comando acima no comando abaixo\n",
        "\n",
        "import requests\n",
        "\n",
        "response = requests.get('https://raw.githubusercontent.com/andre-marcos-perez/ebac-course-utils/develop/notebooks/2022_11_29/rdv.py')\n",
        "\n",
        "with open('rdv.py', 'wb') as f:\n",
        "    f.write(response.content)"
      ]
    },
    {
      "cell_type": "markdown",
      "metadata": {
        "id": "UPbccDxhBXMo"
      },
      "source": [
        " - Instale o pacote de criptografia utilizado pelo código."
      ]
    },
    {
      "cell_type": "code",
      "execution_count": 3,
      "metadata": {
        "id": "EQew9bbvZ4L2"
      },
      "outputs": [
        {
          "name": "stdout",
          "output_type": "stream",
          "text": [
            "Collecting asn1crypto==1.5.1\n",
            "  Downloading asn1crypto-1.5.1-py2.py3-none-any.whl (105 kB)\n",
            "Installing collected packages: asn1crypto\n",
            "  Attempting uninstall: asn1crypto\n",
            "    Found existing installation: asn1crypto 1.3.0\n",
            "    Uninstalling asn1crypto-1.3.0:\n",
            "      Successfully uninstalled asn1crypto-1.3.0\n",
            "Successfully installed asn1crypto-1.5.1\n"
          ]
        }
      ],
      "source": [
        "!pip install asn1crypto==1.5.1"
      ]
    },
    {
      "cell_type": "markdown",
      "metadata": {
        "id": "DgdhKNTsA9dc"
      },
      "source": [
        " - Substitua o texto `<NOME-DO-ARQUIVO-RDV>` pelo nome do arquivo RDV escolhido."
      ]
    },
    {
      "cell_type": "code",
      "execution_count": 4,
      "metadata": {
        "id": "xHTxWEvyNd0y"
      },
      "outputs": [
        {
          "name": "stderr",
          "output_type": "stream",
          "text": [
            "2023-06-28 21:00:59,153 - INFO - Converte RDV resultados.tse.jus.br_oficial_ele2022_arquivo-urna_407_dados_sc_81051_0013_0542_675648646d7379596271557a7452304d414343476f355974535641625965504b55514d77333149474c6c733d_o00407-8105100130542.rdv\n"
          ]
        }
      ],
      "source": [
        "!python rdv.py -r resultados.tse.jus.br_oficial_ele2022_arquivo-urna_407_dados_sc_81051_0013_0542_675648646d7379596271557a7452304d414343476f355974535641625965504b55514d77333149474c6c733d_o00407-8105100130542.rdv > rdv.txt"
      ]
    },
    {
      "cell_type": "markdown",
      "metadata": {
        "id": "5OFA-fmBohlJ"
      },
      "source": [
        "### **2.3. Limpeza** "
      ]
    },
    {
      "cell_type": "markdown",
      "metadata": {
        "id": "d4zw67ZOc-Cm"
      },
      "source": [
        "Na etapa de limpeza, vamos selecionar apenas as linhas do arquivo RDV referentes a votação para presidente."
      ]
    },
    {
      "cell_type": "code",
      "execution_count": 4,
      "metadata": {
        "id": "TrBosvhCc-0W"
      },
      "outputs": [],
      "source": [
        "content = []\n",
        "\n",
        "with open(file=\"rdv.txt\", mode=\"r\") as fp:\n",
        "  for line in fp.readlines():\n",
        "    if \"Governador\" in line:\n",
        "      break\n",
        "    else:\n",
        "      content.append(line) "
      ]
    },
    {
      "cell_type": "code",
      "execution_count": 5,
      "metadata": {
        "id": "HDTFc1M5grsT"
      },
      "outputs": [
        {
          "data": {
            "text/plain": [
              "330"
            ]
          },
          "execution_count": 5,
          "metadata": {},
          "output_type": "execute_result"
        }
      ],
      "source": [
        "len(content)"
      ]
    },
    {
      "cell_type": "code",
      "execution_count": 6,
      "metadata": {
        "id": "r0NNW-xhgjZ0"
      },
      "outputs": [
        {
          "name": "stdout",
          "output_type": "stream",
          "text": [
            "========================================\n",
            "\n",
            "----------------------------------------\n",
            "\n",
            "Presidente\n",
            "\n",
            "  1 - nominal  - [13]\n",
            "\n",
            "  2 - nominal  - [13]\n",
            "\n",
            "  3 - nominal  - [13]\n",
            "\n",
            "  4 - nominal  - [13]\n",
            "\n",
            "  5 - nominal  - [13]\n",
            "\n",
            "  6 - nominal  - [13]\n",
            "\n",
            "  7 - nominal  - [13]\n",
            "\n",
            "  8 - nominal  - [13]\n",
            "\n",
            "  9 - nominal  - [13]\n",
            "\n",
            " 10 - nominal  - [13]\n",
            "\n",
            " 11 - nominal  - [13]\n",
            "\n",
            " 12 - nominal  - [13]\n",
            "\n",
            " 13 - nominal  - [13]\n",
            "\n",
            " 14 - nominal  - [13]\n",
            "\n",
            " 15 - nominal  - [13]\n",
            "\n",
            " 16 - nominal  - [13]\n",
            "\n",
            " 17 - nominal  - [13]\n",
            "\n",
            " 18 - nominal  - [13]\n",
            "\n",
            " 19 - nominal  - [13]\n",
            "\n",
            " 20 - nominal  - [13]\n",
            "\n",
            " 21 - nominal  - [13]\n",
            "\n",
            " 22 - nominal  - [13]\n",
            "\n",
            " 23 - nominal  - [13]\n",
            "\n",
            " 24 - nominal  - [13]\n",
            "\n",
            " 25 - nominal  - [13]\n",
            "\n",
            " 26 - nominal  - [13]\n",
            "\n",
            " 27 - nominal  - [13]\n",
            "\n",
            " 28 - nominal  - [13]\n",
            "\n",
            " 29 - nominal  - [13]\n",
            "\n",
            " 30 - nominal  - [13]\n",
            "\n",
            " 31 - nominal  - [13]\n",
            "\n",
            " 32 - nominal  - [13]\n",
            "\n",
            " 33 - nominal  - [13]\n",
            "\n",
            " 34 - nominal  - [13]\n",
            "\n",
            " 35 - nominal  - [13]\n",
            "\n",
            " 36 - nominal  - [13]\n",
            "\n",
            " 37 - nominal  - [13]\n",
            "\n",
            " 38 - nominal  - [13]\n",
            "\n",
            " 39 - nominal  - [13]\n",
            "\n",
            " 40 - nominal  - [13]\n",
            "\n",
            " 41 - nominal  - [13]\n",
            "\n",
            " 42 - nominal  - [13]\n",
            "\n",
            " 43 - nominal  - [13]\n",
            "\n",
            " 44 - nominal  - [13]\n",
            "\n",
            " 45 - nominal  - [13]\n",
            "\n",
            " 46 - nominal  - [13]\n",
            "\n",
            " 47 - nominal  - [13]\n",
            "\n",
            " 48 - nominal  - [13]\n",
            "\n",
            " 49 - nominal  - [13]\n",
            "\n",
            " 50 - nominal  - [13]\n",
            "\n",
            " 51 - nominal  - [13]\n",
            "\n",
            " 52 - nominal  - [13]\n",
            "\n",
            " 53 - nominal  - [13]\n",
            "\n",
            " 54 - nominal  - [13]\n",
            "\n",
            " 55 - nominal  - [13]\n",
            "\n",
            " 56 - nominal  - [13]\n",
            "\n",
            " 57 - nominal  - [13]\n",
            "\n",
            " 58 - nominal  - [13]\n",
            "\n",
            " 59 - nominal  - [13]\n",
            "\n",
            " 60 - nominal  - [13]\n",
            "\n",
            " 61 - nominal  - [13]\n",
            "\n",
            " 62 - nominal  - [13]\n",
            "\n",
            " 63 - nominal  - [13]\n",
            "\n",
            " 64 - nominal  - [13]\n",
            "\n",
            " 65 - nominal  - [13]\n",
            "\n",
            " 66 - nominal  - [13]\n",
            "\n",
            " 67 - nominal  - [13]\n",
            "\n",
            " 68 - nominal  - [13]\n",
            "\n",
            " 69 - nominal  - [13]\n",
            "\n",
            " 70 - nominal  - [13]\n",
            "\n",
            " 71 - nominal  - [13]\n",
            "\n",
            " 72 - nominal  - [13]\n",
            "\n",
            " 73 - nominal  - [13]\n",
            "\n",
            " 74 - nominal  - [13]\n",
            "\n",
            " 75 - nominal  - [13]\n",
            "\n",
            " 76 - nominal  - [13]\n",
            "\n",
            " 77 - nominal  - [13]\n",
            "\n",
            " 78 - nominal  - [13]\n",
            "\n",
            " 79 - nominal  - [13]\n",
            "\n",
            " 80 - nominal  - [13]\n",
            "\n",
            " 81 - nominal  - [13]\n",
            "\n",
            " 82 - nominal  - [13]\n",
            "\n",
            " 83 - nominal  - [13]\n",
            "\n",
            " 84 - nominal  - [13]\n",
            "\n",
            " 85 - nominal  - [13]\n",
            "\n",
            " 86 - nominal  - [13]\n",
            "\n",
            " 87 - nominal  - [13]\n",
            "\n",
            " 88 - nominal  - [13]\n",
            "\n",
            " 89 - nominal  - [13]\n",
            "\n",
            " 90 - nominal  - [13]\n",
            "\n",
            " 91 - nominal  - [13]\n",
            "\n",
            " 92 - nominal  - [13]\n",
            "\n",
            " 93 - nominal  - [13]\n",
            "\n",
            " 94 - nominal  - [13]\n",
            "\n",
            " 95 - nominal  - [13]\n",
            "\n",
            " 96 - nominal  - [13]\n",
            "\n",
            " 97 - nominal  - [13]\n",
            "\n",
            " 98 - nominal  - [13]\n",
            "\n",
            " 99 - nominal  - [13]\n",
            "\n",
            "100 - nominal  - [13]\n",
            "\n",
            "101 - nominal  - [13]\n",
            "\n",
            "102 - nominal  - [13]\n",
            "\n",
            "103 - nominal  - [13]\n",
            "\n",
            "104 - nominal  - [13]\n",
            "\n",
            "105 - nominal  - [13]\n",
            "\n",
            "106 - nominal  - [13]\n",
            "\n",
            "107 - nominal  - [13]\n",
            "\n",
            "108 - nominal  - [13]\n",
            "\n",
            "109 - nominal  - [13]\n",
            "\n",
            "110 - nominal  - [13]\n",
            "\n",
            "111 - nominal  - [13]\n",
            "\n",
            "112 - nominal  - [13]\n",
            "\n",
            "113 - nominal  - [13]\n",
            "\n",
            "114 - nominal  - [13]\n",
            "\n",
            "115 - nominal  - [13]\n",
            "\n",
            "116 - nominal  - [13]\n",
            "\n",
            "117 - nominal  - [13]\n",
            "\n",
            "118 - nominal  - [13]\n",
            "\n",
            "119 - nominal  - [13]\n",
            "\n",
            "120 - nominal  - [13]\n",
            "\n",
            "121 - nominal  - [13]\n",
            "\n",
            "122 - nominal  - [13]\n",
            "\n",
            "123 - nominal  - [13]\n",
            "\n",
            "124 - nominal  - [13]\n",
            "\n",
            "125 - nominal  - [13]\n",
            "\n",
            "126 - nominal  - [13]\n",
            "\n",
            "127 - nominal  - [13]\n",
            "\n",
            "128 - nominal  - [13]\n",
            "\n",
            "129 - nominal  - [13]\n",
            "\n",
            "130 - nominal  - [13]\n",
            "\n",
            "131 - nominal  - [13]\n",
            "\n",
            "132 - nominal  - [13]\n",
            "\n",
            "133 - nominal  - [13]\n",
            "\n",
            "134 - nominal  - [13]\n",
            "\n",
            "135 - nominal  - [13]\n",
            "\n",
            "136 - nominal  - [13]\n",
            "\n",
            "137 - nominal  - [13]\n",
            "\n",
            "138 - nominal  - [13]\n",
            "\n",
            "139 - nominal  - [13]\n",
            "\n",
            "140 - nominal  - [13]\n",
            "\n",
            "141 - nominal  - [13]\n",
            "\n",
            "142 - nominal  - [13]\n",
            "\n",
            "143 - nominal  - [13]\n",
            "\n",
            "144 - nominal  - [13]\n",
            "\n",
            "145 - nominal  - [13]\n",
            "\n",
            "146 - nominal  - [13]\n",
            "\n",
            "147 - nominal  - [13]\n",
            "\n",
            "148 - nominal  - [13]\n",
            "\n",
            "149 - nominal  - [13]\n",
            "\n",
            "150 - nominal  - [13]\n",
            "\n",
            "151 - nominal  - [13]\n",
            "\n",
            "152 - nominal  - [13]\n",
            "\n",
            "153 - nominal  - [13]\n",
            "\n",
            "154 - nominal  - [13]\n",
            "\n",
            "155 - nominal  - [13]\n",
            "\n",
            "156 - nominal  - [13]\n",
            "\n",
            "157 - nominal  - [13]\n",
            "\n",
            "158 - nominal  - [13]\n",
            "\n",
            "159 - nominal  - [13]\n",
            "\n",
            "160 - nominal  - [13]\n",
            "\n",
            "161 - nominal  - [13]\n",
            "\n",
            "162 - nominal  - [13]\n",
            "\n",
            "163 - nominal  - [13]\n",
            "\n",
            "164 - nominal  - [13]\n",
            "\n",
            "165 - nominal  - [13]\n",
            "\n",
            "166 - nominal  - [13]\n",
            "\n",
            "167 - nominal  - [13]\n",
            "\n",
            "168 - nominal  - [13]\n",
            "\n",
            "169 - nominal  - [13]\n",
            "\n",
            "170 - nominal  - [13]\n",
            "\n",
            "171 - nominal  - [13]\n",
            "\n",
            "172 - nominal  - [13]\n",
            "\n",
            "173 - nominal  - [13]\n",
            "\n",
            "174 - nominal  - [13]\n",
            "\n",
            "175 - nominal  - [13]\n",
            "\n",
            "176 - nominal  - [13]\n",
            "\n",
            "177 - nominal  - [13]\n",
            "\n",
            "178 - nominal  - [13]\n",
            "\n",
            "179 - nominal  - [13]\n",
            "\n",
            "180 - nominal  - [13]\n",
            "\n",
            "181 - nominal  - [13]\n",
            "\n",
            "182 - nominal  - [13]\n",
            "\n",
            "183 - nominal  - [13]\n",
            "\n",
            "184 - nominal  - [13]\n",
            "\n",
            "185 - nominal  - [13]\n",
            "\n",
            "186 - nominal  - [13]\n",
            "\n",
            "187 - nominal  - [13]\n",
            "\n",
            "188 - nominal  - [13]\n",
            "\n",
            "189 - nominal  - [13]\n",
            "\n",
            "190 - nominal  - [13]\n",
            "\n",
            "191 - nominal  - [13]\n",
            "\n",
            "192 - nominal  - [13]\n",
            "\n",
            "193 - nominal  - [13]\n",
            "\n",
            "194 - nominal  - [22]\n",
            "\n",
            "195 - nominal  - [22]\n",
            "\n",
            "196 - nominal  - [22]\n",
            "\n",
            "197 - nominal  - [22]\n",
            "\n",
            "198 - nominal  - [22]\n",
            "\n",
            "199 - nominal  - [22]\n",
            "\n",
            "200 - nominal  - [22]\n",
            "\n",
            "201 - nominal  - [22]\n",
            "\n",
            "202 - nominal  - [22]\n",
            "\n",
            "203 - nominal  - [22]\n",
            "\n",
            "204 - nominal  - [22]\n",
            "\n",
            "205 - nominal  - [22]\n",
            "\n",
            "206 - nominal  - [22]\n",
            "\n",
            "207 - nominal  - [22]\n",
            "\n",
            "208 - nominal  - [22]\n",
            "\n",
            "209 - nominal  - [22]\n",
            "\n",
            "210 - nominal  - [22]\n",
            "\n",
            "211 - nominal  - [22]\n",
            "\n",
            "212 - nominal  - [22]\n",
            "\n",
            "213 - nominal  - [22]\n",
            "\n",
            "214 - nominal  - [22]\n",
            "\n",
            "215 - nominal  - [22]\n",
            "\n",
            "216 - nominal  - [22]\n",
            "\n",
            "217 - nominal  - [22]\n",
            "\n",
            "218 - nominal  - [22]\n",
            "\n",
            "219 - nominal  - [22]\n",
            "\n",
            "220 - nominal  - [22]\n",
            "\n",
            "221 - nominal  - [22]\n",
            "\n",
            "222 - nominal  - [22]\n",
            "\n",
            "223 - nominal  - [22]\n",
            "\n",
            "224 - nominal  - [22]\n",
            "\n",
            "225 - nominal  - [22]\n",
            "\n",
            "226 - nominal  - [22]\n",
            "\n",
            "227 - nominal  - [22]\n",
            "\n",
            "228 - nominal  - [22]\n",
            "\n",
            "229 - nominal  - [22]\n",
            "\n",
            "230 - nominal  - [22]\n",
            "\n",
            "231 - nominal  - [22]\n",
            "\n",
            "232 - nominal  - [22]\n",
            "\n",
            "233 - nominal  - [22]\n",
            "\n",
            "234 - nominal  - [22]\n",
            "\n",
            "235 - nominal  - [22]\n",
            "\n",
            "236 - nominal  - [22]\n",
            "\n",
            "237 - nominal  - [22]\n",
            "\n",
            "238 - nominal  - [22]\n",
            "\n",
            "239 - nominal  - [22]\n",
            "\n",
            "240 - nominal  - [22]\n",
            "\n",
            "241 - nominal  - [22]\n",
            "\n",
            "242 - nominal  - [22]\n",
            "\n",
            "243 - nominal  - [22]\n",
            "\n",
            "244 - nominal  - [22]\n",
            "\n",
            "245 - nominal  - [22]\n",
            "\n",
            "246 - nominal  - [22]\n",
            "\n",
            "247 - nominal  - [22]\n",
            "\n",
            "248 - nominal  - [22]\n",
            "\n",
            "249 - nominal  - [22]\n",
            "\n",
            "250 - nominal  - [22]\n",
            "\n",
            "251 - nominal  - [22]\n",
            "\n",
            "252 - nominal  - [22]\n",
            "\n",
            "253 - nominal  - [22]\n",
            "\n",
            "254 - nominal  - [22]\n",
            "\n",
            "255 - nominal  - [22]\n",
            "\n",
            "256 - nominal  - [22]\n",
            "\n",
            "257 - nominal  - [22]\n",
            "\n",
            "258 - nominal  - [22]\n",
            "\n",
            "259 - nominal  - [22]\n",
            "\n",
            "260 - nominal  - [22]\n",
            "\n",
            "261 - nominal  - [22]\n",
            "\n",
            "262 - nominal  - [22]\n",
            "\n",
            "263 - nominal  - [22]\n",
            "\n",
            "264 - nominal  - [22]\n",
            "\n",
            "265 - nominal  - [22]\n",
            "\n",
            "266 - nominal  - [22]\n",
            "\n",
            "267 - nominal  - [22]\n",
            "\n",
            "268 - nominal  - [22]\n",
            "\n",
            "269 - nominal  - [22]\n",
            "\n",
            "270 - nominal  - [22]\n",
            "\n",
            "271 - nominal  - [22]\n",
            "\n",
            "272 - nominal  - [22]\n",
            "\n",
            "273 - nominal  - [22]\n",
            "\n",
            "274 - nominal  - [22]\n",
            "\n",
            "275 - nominal  - [22]\n",
            "\n",
            "276 - nominal  - [22]\n",
            "\n",
            "277 - nominal  - [22]\n",
            "\n",
            "278 - nominal  - [22]\n",
            "\n",
            "279 - nominal  - [22]\n",
            "\n",
            "280 - nominal  - [22]\n",
            "\n",
            "281 - nominal  - [22]\n",
            "\n",
            "282 - nominal  - [22]\n",
            "\n",
            "283 - nominal  - [22]\n",
            "\n",
            "284 - nominal  - [22]\n",
            "\n",
            "285 - nominal  - [22]\n",
            "\n",
            "286 - nominal  - [22]\n",
            "\n",
            "287 - nominal  - [22]\n",
            "\n",
            "288 - nominal  - [22]\n",
            "\n",
            "289 - nominal  - [22]\n",
            "\n",
            "290 - nominal  - [22]\n",
            "\n",
            "291 - nominal  - [22]\n",
            "\n",
            "292 - nominal  - [22]\n",
            "\n",
            "293 - nominal  - [22]\n",
            "\n",
            "294 - nominal  - [22]\n",
            "\n",
            "295 - nominal  - [22]\n",
            "\n",
            "296 - nominal  - [22]\n",
            "\n",
            "297 - nominal  - [22]\n",
            "\n",
            "298 - nominal  - [22]\n",
            "\n",
            "299 - nominal  - [22]\n",
            "\n",
            "300 - nominal  - [22]\n",
            "\n",
            "301 - nominal  - [22]\n",
            "\n",
            "302 - nominal  - [22]\n",
            "\n",
            "303 - nominal  - [22]\n",
            "\n",
            "304 - nominal  - [22]\n",
            "\n",
            "305 - nominal  - [22]\n",
            "\n",
            "306 - nominal  - [22]\n",
            "\n",
            "307 - nominal  - [22]\n",
            "\n",
            "308 - nominal  - [22]\n",
            "\n",
            "309 - nominal  - [22]\n",
            "\n",
            "310 - nominal  - [22]\n",
            "\n",
            "311 - nominal  - [22]\n",
            "\n",
            "312 - nominal  - [22]\n",
            "\n",
            "313 - nominal  - [22]\n",
            "\n",
            "314 - nominal  - [22]\n",
            "\n",
            "315 - nominal  - [22]\n",
            "\n",
            "316 - nominal  - [22]\n",
            "\n",
            "317 - branco\n",
            "\n",
            "318 - branco\n",
            "\n",
            "319 - branco\n",
            "\n",
            "320 - branco\n",
            "\n",
            "321 - branco\n",
            "\n",
            "322 - nulo     - [00]\n",
            "\n",
            "323 - nulo     - [00]\n",
            "\n",
            "324 - nulo     - [00]\n",
            "\n",
            "325 - nulo     - [00]\n",
            "\n",
            "326 - nulo     - [43]\n",
            "\n",
            "----------------------------------------\n",
            "\n"
          ]
        }
      ],
      "source": [
        "for line in content:\n",
        "  print(line)"
      ]
    },
    {
      "cell_type": "markdown",
      "metadata": {
        "id": "042WnMxQotAX"
      },
      "source": [
        "### **2.4. Extração** "
      ]
    },
    {
      "cell_type": "markdown",
      "metadata": {
        "id": "2QpIbXo6gkMY"
      },
      "source": [
        "Na etapa de extração, vamos extrair apenas os dados de votação."
      ]
    },
    {
      "cell_type": "code",
      "execution_count": 7,
      "metadata": {
        "id": "OO99O3ubgh4J"
      },
      "outputs": [],
      "source": [
        "import re"
      ]
    },
    {
      "cell_type": "code",
      "execution_count": 8,
      "metadata": {
        "id": "jpUIsVTkg5U1"
      },
      "outputs": [],
      "source": [
        "pattern = re.compile(pattern=\"\\[(.*?)\\]\")"
      ]
    },
    {
      "cell_type": "code",
      "execution_count": 9,
      "metadata": {
        "id": "3yLyf43df-x1"
      },
      "outputs": [],
      "source": [
        "votes = []\n",
        "\n",
        "for line in content:\n",
        "\n",
        "  if \"branco\" in line:\n",
        "\n",
        "    votes.append({\"voto\": \"branco\", \"quantidade\": 1})\n",
        "\n",
        "  if \"nulo\" in line:\n",
        "\n",
        "    votes.append({\"voto\": \"nulo\", \"quantidade\": 1})\n",
        "\n",
        "  if \"nominal\" in line:\n",
        "\n",
        "    vote = re.findall(pattern=pattern, string=line)[0]\n",
        "    votes.append({\"voto\": f\"{vote}\", \"quantidade\": 1})"
      ]
    },
    {
      "cell_type": "code",
      "execution_count": 10,
      "metadata": {
        "id": "XjXerw1QhhfK"
      },
      "outputs": [
        {
          "data": {
            "text/plain": [
              "326"
            ]
          },
          "execution_count": 10,
          "metadata": {},
          "output_type": "execute_result"
        }
      ],
      "source": [
        "len(votes)"
      ]
    },
    {
      "cell_type": "code",
      "execution_count": 11,
      "metadata": {
        "id": "-OaGwIXSjiBz"
      },
      "outputs": [
        {
          "name": "stdout",
          "output_type": "stream",
          "text": [
            "{'voto': '13', 'quantidade': 1}\n",
            "{'voto': '13', 'quantidade': 1}\n",
            "{'voto': '13', 'quantidade': 1}\n",
            "{'voto': '13', 'quantidade': 1}\n",
            "{'voto': '13', 'quantidade': 1}\n",
            "{'voto': '13', 'quantidade': 1}\n",
            "{'voto': '13', 'quantidade': 1}\n",
            "{'voto': '13', 'quantidade': 1}\n",
            "{'voto': '13', 'quantidade': 1}\n",
            "{'voto': '13', 'quantidade': 1}\n",
            "{'voto': '13', 'quantidade': 1}\n",
            "{'voto': '13', 'quantidade': 1}\n",
            "{'voto': '13', 'quantidade': 1}\n",
            "{'voto': '13', 'quantidade': 1}\n",
            "{'voto': '13', 'quantidade': 1}\n",
            "{'voto': '13', 'quantidade': 1}\n",
            "{'voto': '13', 'quantidade': 1}\n",
            "{'voto': '13', 'quantidade': 1}\n",
            "{'voto': '13', 'quantidade': 1}\n",
            "{'voto': '13', 'quantidade': 1}\n",
            "{'voto': '13', 'quantidade': 1}\n",
            "{'voto': '13', 'quantidade': 1}\n",
            "{'voto': '13', 'quantidade': 1}\n",
            "{'voto': '13', 'quantidade': 1}\n",
            "{'voto': '13', 'quantidade': 1}\n",
            "{'voto': '13', 'quantidade': 1}\n",
            "{'voto': '13', 'quantidade': 1}\n",
            "{'voto': '13', 'quantidade': 1}\n",
            "{'voto': '13', 'quantidade': 1}\n",
            "{'voto': '13', 'quantidade': 1}\n",
            "{'voto': '13', 'quantidade': 1}\n",
            "{'voto': '13', 'quantidade': 1}\n",
            "{'voto': '13', 'quantidade': 1}\n",
            "{'voto': '13', 'quantidade': 1}\n",
            "{'voto': '13', 'quantidade': 1}\n",
            "{'voto': '13', 'quantidade': 1}\n",
            "{'voto': '13', 'quantidade': 1}\n",
            "{'voto': '13', 'quantidade': 1}\n",
            "{'voto': '13', 'quantidade': 1}\n",
            "{'voto': '13', 'quantidade': 1}\n",
            "{'voto': '13', 'quantidade': 1}\n",
            "{'voto': '13', 'quantidade': 1}\n",
            "{'voto': '13', 'quantidade': 1}\n",
            "{'voto': '13', 'quantidade': 1}\n",
            "{'voto': '13', 'quantidade': 1}\n",
            "{'voto': '13', 'quantidade': 1}\n",
            "{'voto': '13', 'quantidade': 1}\n",
            "{'voto': '13', 'quantidade': 1}\n",
            "{'voto': '13', 'quantidade': 1}\n",
            "{'voto': '13', 'quantidade': 1}\n",
            "{'voto': '13', 'quantidade': 1}\n",
            "{'voto': '13', 'quantidade': 1}\n",
            "{'voto': '13', 'quantidade': 1}\n",
            "{'voto': '13', 'quantidade': 1}\n",
            "{'voto': '13', 'quantidade': 1}\n",
            "{'voto': '13', 'quantidade': 1}\n",
            "{'voto': '13', 'quantidade': 1}\n",
            "{'voto': '13', 'quantidade': 1}\n",
            "{'voto': '13', 'quantidade': 1}\n",
            "{'voto': '13', 'quantidade': 1}\n",
            "{'voto': '13', 'quantidade': 1}\n",
            "{'voto': '13', 'quantidade': 1}\n",
            "{'voto': '13', 'quantidade': 1}\n",
            "{'voto': '13', 'quantidade': 1}\n",
            "{'voto': '13', 'quantidade': 1}\n",
            "{'voto': '13', 'quantidade': 1}\n",
            "{'voto': '13', 'quantidade': 1}\n",
            "{'voto': '13', 'quantidade': 1}\n",
            "{'voto': '13', 'quantidade': 1}\n",
            "{'voto': '13', 'quantidade': 1}\n",
            "{'voto': '13', 'quantidade': 1}\n",
            "{'voto': '13', 'quantidade': 1}\n",
            "{'voto': '13', 'quantidade': 1}\n",
            "{'voto': '13', 'quantidade': 1}\n",
            "{'voto': '13', 'quantidade': 1}\n",
            "{'voto': '13', 'quantidade': 1}\n",
            "{'voto': '13', 'quantidade': 1}\n",
            "{'voto': '13', 'quantidade': 1}\n",
            "{'voto': '13', 'quantidade': 1}\n",
            "{'voto': '13', 'quantidade': 1}\n",
            "{'voto': '13', 'quantidade': 1}\n",
            "{'voto': '13', 'quantidade': 1}\n",
            "{'voto': '13', 'quantidade': 1}\n",
            "{'voto': '13', 'quantidade': 1}\n",
            "{'voto': '13', 'quantidade': 1}\n",
            "{'voto': '13', 'quantidade': 1}\n",
            "{'voto': '13', 'quantidade': 1}\n",
            "{'voto': '13', 'quantidade': 1}\n",
            "{'voto': '13', 'quantidade': 1}\n",
            "{'voto': '13', 'quantidade': 1}\n",
            "{'voto': '13', 'quantidade': 1}\n",
            "{'voto': '13', 'quantidade': 1}\n",
            "{'voto': '13', 'quantidade': 1}\n",
            "{'voto': '13', 'quantidade': 1}\n",
            "{'voto': '13', 'quantidade': 1}\n",
            "{'voto': '13', 'quantidade': 1}\n",
            "{'voto': '13', 'quantidade': 1}\n",
            "{'voto': '13', 'quantidade': 1}\n",
            "{'voto': '13', 'quantidade': 1}\n",
            "{'voto': '13', 'quantidade': 1}\n",
            "{'voto': '13', 'quantidade': 1}\n",
            "{'voto': '13', 'quantidade': 1}\n",
            "{'voto': '13', 'quantidade': 1}\n",
            "{'voto': '13', 'quantidade': 1}\n",
            "{'voto': '13', 'quantidade': 1}\n",
            "{'voto': '13', 'quantidade': 1}\n",
            "{'voto': '13', 'quantidade': 1}\n",
            "{'voto': '13', 'quantidade': 1}\n",
            "{'voto': '13', 'quantidade': 1}\n",
            "{'voto': '13', 'quantidade': 1}\n",
            "{'voto': '13', 'quantidade': 1}\n",
            "{'voto': '13', 'quantidade': 1}\n",
            "{'voto': '13', 'quantidade': 1}\n",
            "{'voto': '13', 'quantidade': 1}\n",
            "{'voto': '13', 'quantidade': 1}\n",
            "{'voto': '13', 'quantidade': 1}\n",
            "{'voto': '13', 'quantidade': 1}\n",
            "{'voto': '13', 'quantidade': 1}\n",
            "{'voto': '13', 'quantidade': 1}\n",
            "{'voto': '13', 'quantidade': 1}\n",
            "{'voto': '13', 'quantidade': 1}\n",
            "{'voto': '13', 'quantidade': 1}\n",
            "{'voto': '13', 'quantidade': 1}\n",
            "{'voto': '13', 'quantidade': 1}\n",
            "{'voto': '13', 'quantidade': 1}\n",
            "{'voto': '13', 'quantidade': 1}\n",
            "{'voto': '13', 'quantidade': 1}\n",
            "{'voto': '13', 'quantidade': 1}\n",
            "{'voto': '13', 'quantidade': 1}\n",
            "{'voto': '13', 'quantidade': 1}\n",
            "{'voto': '13', 'quantidade': 1}\n",
            "{'voto': '13', 'quantidade': 1}\n",
            "{'voto': '13', 'quantidade': 1}\n",
            "{'voto': '13', 'quantidade': 1}\n",
            "{'voto': '13', 'quantidade': 1}\n",
            "{'voto': '13', 'quantidade': 1}\n",
            "{'voto': '13', 'quantidade': 1}\n",
            "{'voto': '13', 'quantidade': 1}\n",
            "{'voto': '13', 'quantidade': 1}\n",
            "{'voto': '13', 'quantidade': 1}\n",
            "{'voto': '13', 'quantidade': 1}\n",
            "{'voto': '13', 'quantidade': 1}\n",
            "{'voto': '13', 'quantidade': 1}\n",
            "{'voto': '13', 'quantidade': 1}\n",
            "{'voto': '13', 'quantidade': 1}\n",
            "{'voto': '13', 'quantidade': 1}\n",
            "{'voto': '13', 'quantidade': 1}\n",
            "{'voto': '13', 'quantidade': 1}\n",
            "{'voto': '13', 'quantidade': 1}\n",
            "{'voto': '13', 'quantidade': 1}\n",
            "{'voto': '13', 'quantidade': 1}\n",
            "{'voto': '13', 'quantidade': 1}\n",
            "{'voto': '13', 'quantidade': 1}\n",
            "{'voto': '13', 'quantidade': 1}\n",
            "{'voto': '13', 'quantidade': 1}\n",
            "{'voto': '13', 'quantidade': 1}\n",
            "{'voto': '13', 'quantidade': 1}\n",
            "{'voto': '13', 'quantidade': 1}\n",
            "{'voto': '13', 'quantidade': 1}\n",
            "{'voto': '13', 'quantidade': 1}\n",
            "{'voto': '13', 'quantidade': 1}\n",
            "{'voto': '13', 'quantidade': 1}\n",
            "{'voto': '13', 'quantidade': 1}\n",
            "{'voto': '13', 'quantidade': 1}\n",
            "{'voto': '13', 'quantidade': 1}\n",
            "{'voto': '13', 'quantidade': 1}\n",
            "{'voto': '13', 'quantidade': 1}\n",
            "{'voto': '13', 'quantidade': 1}\n",
            "{'voto': '13', 'quantidade': 1}\n",
            "{'voto': '13', 'quantidade': 1}\n",
            "{'voto': '13', 'quantidade': 1}\n",
            "{'voto': '13', 'quantidade': 1}\n",
            "{'voto': '13', 'quantidade': 1}\n",
            "{'voto': '13', 'quantidade': 1}\n",
            "{'voto': '13', 'quantidade': 1}\n",
            "{'voto': '13', 'quantidade': 1}\n",
            "{'voto': '13', 'quantidade': 1}\n",
            "{'voto': '13', 'quantidade': 1}\n",
            "{'voto': '13', 'quantidade': 1}\n",
            "{'voto': '13', 'quantidade': 1}\n",
            "{'voto': '13', 'quantidade': 1}\n",
            "{'voto': '13', 'quantidade': 1}\n",
            "{'voto': '13', 'quantidade': 1}\n",
            "{'voto': '13', 'quantidade': 1}\n",
            "{'voto': '13', 'quantidade': 1}\n",
            "{'voto': '13', 'quantidade': 1}\n",
            "{'voto': '13', 'quantidade': 1}\n",
            "{'voto': '13', 'quantidade': 1}\n",
            "{'voto': '13', 'quantidade': 1}\n",
            "{'voto': '13', 'quantidade': 1}\n",
            "{'voto': '13', 'quantidade': 1}\n",
            "{'voto': '13', 'quantidade': 1}\n",
            "{'voto': '13', 'quantidade': 1}\n",
            "{'voto': '22', 'quantidade': 1}\n",
            "{'voto': '22', 'quantidade': 1}\n",
            "{'voto': '22', 'quantidade': 1}\n",
            "{'voto': '22', 'quantidade': 1}\n",
            "{'voto': '22', 'quantidade': 1}\n",
            "{'voto': '22', 'quantidade': 1}\n",
            "{'voto': '22', 'quantidade': 1}\n",
            "{'voto': '22', 'quantidade': 1}\n",
            "{'voto': '22', 'quantidade': 1}\n",
            "{'voto': '22', 'quantidade': 1}\n",
            "{'voto': '22', 'quantidade': 1}\n",
            "{'voto': '22', 'quantidade': 1}\n",
            "{'voto': '22', 'quantidade': 1}\n",
            "{'voto': '22', 'quantidade': 1}\n",
            "{'voto': '22', 'quantidade': 1}\n",
            "{'voto': '22', 'quantidade': 1}\n",
            "{'voto': '22', 'quantidade': 1}\n",
            "{'voto': '22', 'quantidade': 1}\n",
            "{'voto': '22', 'quantidade': 1}\n",
            "{'voto': '22', 'quantidade': 1}\n",
            "{'voto': '22', 'quantidade': 1}\n",
            "{'voto': '22', 'quantidade': 1}\n",
            "{'voto': '22', 'quantidade': 1}\n",
            "{'voto': '22', 'quantidade': 1}\n",
            "{'voto': '22', 'quantidade': 1}\n",
            "{'voto': '22', 'quantidade': 1}\n",
            "{'voto': '22', 'quantidade': 1}\n",
            "{'voto': '22', 'quantidade': 1}\n",
            "{'voto': '22', 'quantidade': 1}\n",
            "{'voto': '22', 'quantidade': 1}\n",
            "{'voto': '22', 'quantidade': 1}\n",
            "{'voto': '22', 'quantidade': 1}\n",
            "{'voto': '22', 'quantidade': 1}\n",
            "{'voto': '22', 'quantidade': 1}\n",
            "{'voto': '22', 'quantidade': 1}\n",
            "{'voto': '22', 'quantidade': 1}\n",
            "{'voto': '22', 'quantidade': 1}\n",
            "{'voto': '22', 'quantidade': 1}\n",
            "{'voto': '22', 'quantidade': 1}\n",
            "{'voto': '22', 'quantidade': 1}\n",
            "{'voto': '22', 'quantidade': 1}\n",
            "{'voto': '22', 'quantidade': 1}\n",
            "{'voto': '22', 'quantidade': 1}\n",
            "{'voto': '22', 'quantidade': 1}\n",
            "{'voto': '22', 'quantidade': 1}\n",
            "{'voto': '22', 'quantidade': 1}\n",
            "{'voto': '22', 'quantidade': 1}\n",
            "{'voto': '22', 'quantidade': 1}\n",
            "{'voto': '22', 'quantidade': 1}\n",
            "{'voto': '22', 'quantidade': 1}\n",
            "{'voto': '22', 'quantidade': 1}\n",
            "{'voto': '22', 'quantidade': 1}\n",
            "{'voto': '22', 'quantidade': 1}\n",
            "{'voto': '22', 'quantidade': 1}\n",
            "{'voto': '22', 'quantidade': 1}\n",
            "{'voto': '22', 'quantidade': 1}\n",
            "{'voto': '22', 'quantidade': 1}\n",
            "{'voto': '22', 'quantidade': 1}\n",
            "{'voto': '22', 'quantidade': 1}\n",
            "{'voto': '22', 'quantidade': 1}\n",
            "{'voto': '22', 'quantidade': 1}\n",
            "{'voto': '22', 'quantidade': 1}\n",
            "{'voto': '22', 'quantidade': 1}\n",
            "{'voto': '22', 'quantidade': 1}\n",
            "{'voto': '22', 'quantidade': 1}\n",
            "{'voto': '22', 'quantidade': 1}\n",
            "{'voto': '22', 'quantidade': 1}\n",
            "{'voto': '22', 'quantidade': 1}\n",
            "{'voto': '22', 'quantidade': 1}\n",
            "{'voto': '22', 'quantidade': 1}\n",
            "{'voto': '22', 'quantidade': 1}\n",
            "{'voto': '22', 'quantidade': 1}\n",
            "{'voto': '22', 'quantidade': 1}\n",
            "{'voto': '22', 'quantidade': 1}\n",
            "{'voto': '22', 'quantidade': 1}\n",
            "{'voto': '22', 'quantidade': 1}\n",
            "{'voto': '22', 'quantidade': 1}\n",
            "{'voto': '22', 'quantidade': 1}\n",
            "{'voto': '22', 'quantidade': 1}\n",
            "{'voto': '22', 'quantidade': 1}\n",
            "{'voto': '22', 'quantidade': 1}\n",
            "{'voto': '22', 'quantidade': 1}\n",
            "{'voto': '22', 'quantidade': 1}\n",
            "{'voto': '22', 'quantidade': 1}\n",
            "{'voto': '22', 'quantidade': 1}\n",
            "{'voto': '22', 'quantidade': 1}\n",
            "{'voto': '22', 'quantidade': 1}\n",
            "{'voto': '22', 'quantidade': 1}\n",
            "{'voto': '22', 'quantidade': 1}\n",
            "{'voto': '22', 'quantidade': 1}\n",
            "{'voto': '22', 'quantidade': 1}\n",
            "{'voto': '22', 'quantidade': 1}\n",
            "{'voto': '22', 'quantidade': 1}\n",
            "{'voto': '22', 'quantidade': 1}\n",
            "{'voto': '22', 'quantidade': 1}\n",
            "{'voto': '22', 'quantidade': 1}\n",
            "{'voto': '22', 'quantidade': 1}\n",
            "{'voto': '22', 'quantidade': 1}\n",
            "{'voto': '22', 'quantidade': 1}\n",
            "{'voto': '22', 'quantidade': 1}\n",
            "{'voto': '22', 'quantidade': 1}\n",
            "{'voto': '22', 'quantidade': 1}\n",
            "{'voto': '22', 'quantidade': 1}\n",
            "{'voto': '22', 'quantidade': 1}\n",
            "{'voto': '22', 'quantidade': 1}\n",
            "{'voto': '22', 'quantidade': 1}\n",
            "{'voto': '22', 'quantidade': 1}\n",
            "{'voto': '22', 'quantidade': 1}\n",
            "{'voto': '22', 'quantidade': 1}\n",
            "{'voto': '22', 'quantidade': 1}\n",
            "{'voto': '22', 'quantidade': 1}\n",
            "{'voto': '22', 'quantidade': 1}\n",
            "{'voto': '22', 'quantidade': 1}\n",
            "{'voto': '22', 'quantidade': 1}\n",
            "{'voto': '22', 'quantidade': 1}\n",
            "{'voto': '22', 'quantidade': 1}\n",
            "{'voto': '22', 'quantidade': 1}\n",
            "{'voto': '22', 'quantidade': 1}\n",
            "{'voto': '22', 'quantidade': 1}\n",
            "{'voto': '22', 'quantidade': 1}\n",
            "{'voto': '22', 'quantidade': 1}\n",
            "{'voto': '22', 'quantidade': 1}\n",
            "{'voto': '22', 'quantidade': 1}\n",
            "{'voto': 'branco', 'quantidade': 1}\n",
            "{'voto': 'branco', 'quantidade': 1}\n",
            "{'voto': 'branco', 'quantidade': 1}\n",
            "{'voto': 'branco', 'quantidade': 1}\n",
            "{'voto': 'branco', 'quantidade': 1}\n",
            "{'voto': 'nulo', 'quantidade': 1}\n",
            "{'voto': 'nulo', 'quantidade': 1}\n",
            "{'voto': 'nulo', 'quantidade': 1}\n",
            "{'voto': 'nulo', 'quantidade': 1}\n",
            "{'voto': 'nulo', 'quantidade': 1}\n"
          ]
        }
      ],
      "source": [
        "for vote in votes:\n",
        "  print(vote)"
      ]
    },
    {
      "cell_type": "markdown",
      "metadata": {
        "id": "9Vc1xfxBnpal"
      },
      "source": [
        "## 3\\. Processamento"
      ]
    },
    {
      "cell_type": "markdown",
      "metadata": {
        "id": "aYgj8tEKn3WV"
      },
      "source": [
        "Nesta aula vamos agregar os votos extraídos do arquivo RDV."
      ]
    },
    {
      "cell_type": "code",
      "execution_count": 12,
      "metadata": {
        "id": "yvrLD_U8n4mh"
      },
      "outputs": [
        {
          "name": "stdout",
          "output_type": "stream",
          "text": [
            "{'voto': '13', 'quantidade': 1}\n",
            "{'voto': '13', 'quantidade': 1}\n",
            "{'voto': '13', 'quantidade': 1}\n",
            "{'voto': '13', 'quantidade': 1}\n",
            "{'voto': '13', 'quantidade': 1}\n",
            "{'voto': '13', 'quantidade': 1}\n",
            "{'voto': '13', 'quantidade': 1}\n",
            "{'voto': '13', 'quantidade': 1}\n",
            "{'voto': '13', 'quantidade': 1}\n",
            "{'voto': '13', 'quantidade': 1}\n"
          ]
        }
      ],
      "source": [
        "for vote in votes[0:10]:\n",
        "  print(vote)"
      ]
    },
    {
      "cell_type": "markdown",
      "metadata": {
        "id": "1FqEmBSNnj5v"
      },
      "source": [
        "### **3.1. Pandas**"
      ]
    },
    {
      "cell_type": "markdown",
      "metadata": {
        "id": "Ci6sgZpOjodO"
      },
      "source": [
        "Vamos utilizar o `Pandas`, o pacote **Python** mais utilizado para processamento de dados."
      ]
    },
    {
      "cell_type": "code",
      "execution_count": 13,
      "metadata": {
        "id": "ATSOc5bNjrgA"
      },
      "outputs": [],
      "source": [
        "import pandas as pd"
      ]
    },
    {
      "cell_type": "markdown",
      "metadata": {
        "id": "e3ElPGw0rZ5f"
      },
      "source": [
        "### **3.2. DataFrame**"
      ]
    },
    {
      "cell_type": "markdown",
      "metadata": {
        "id": "stW_4PNKrhuX"
      },
      "source": [
        "A abstração base do `Pandas` é o `DataFrame`, uma estrutura de dados que representa uma tabela de duas dimensões."
      ]
    },
    {
      "cell_type": "code",
      "execution_count": 14,
      "metadata": {
        "id": "w_ppM8GSjs8o"
      },
      "outputs": [],
      "source": [
        "votes_table = pd.DataFrame(votes)"
      ]
    },
    {
      "cell_type": "code",
      "execution_count": 19,
      "metadata": {
        "id": "XrlA5BULjzE5"
      },
      "outputs": [
        {
          "data": {
            "text/html": [
              "<div>\n",
              "<style scoped>\n",
              "    .dataframe tbody tr th:only-of-type {\n",
              "        vertical-align: middle;\n",
              "    }\n",
              "\n",
              "    .dataframe tbody tr th {\n",
              "        vertical-align: top;\n",
              "    }\n",
              "\n",
              "    .dataframe thead th {\n",
              "        text-align: right;\n",
              "    }\n",
              "</style>\n",
              "<table border=\"1\" class=\"dataframe\">\n",
              "  <thead>\n",
              "    <tr style=\"text-align: right;\">\n",
              "      <th></th>\n",
              "      <th>voto</th>\n",
              "      <th>quantidade</th>\n",
              "    </tr>\n",
              "  </thead>\n",
              "  <tbody>\n",
              "    <tr>\n",
              "      <th>0</th>\n",
              "      <td>13</td>\n",
              "      <td>1</td>\n",
              "    </tr>\n",
              "    <tr>\n",
              "      <th>1</th>\n",
              "      <td>13</td>\n",
              "      <td>1</td>\n",
              "    </tr>\n",
              "    <tr>\n",
              "      <th>2</th>\n",
              "      <td>13</td>\n",
              "      <td>1</td>\n",
              "    </tr>\n",
              "    <tr>\n",
              "      <th>3</th>\n",
              "      <td>13</td>\n",
              "      <td>1</td>\n",
              "    </tr>\n",
              "    <tr>\n",
              "      <th>4</th>\n",
              "      <td>13</td>\n",
              "      <td>1</td>\n",
              "    </tr>\n",
              "    <tr>\n",
              "      <th>...</th>\n",
              "      <td>...</td>\n",
              "      <td>...</td>\n",
              "    </tr>\n",
              "    <tr>\n",
              "      <th>321</th>\n",
              "      <td>nulo</td>\n",
              "      <td>1</td>\n",
              "    </tr>\n",
              "    <tr>\n",
              "      <th>322</th>\n",
              "      <td>nulo</td>\n",
              "      <td>1</td>\n",
              "    </tr>\n",
              "    <tr>\n",
              "      <th>323</th>\n",
              "      <td>nulo</td>\n",
              "      <td>1</td>\n",
              "    </tr>\n",
              "    <tr>\n",
              "      <th>324</th>\n",
              "      <td>nulo</td>\n",
              "      <td>1</td>\n",
              "    </tr>\n",
              "    <tr>\n",
              "      <th>325</th>\n",
              "      <td>nulo</td>\n",
              "      <td>1</td>\n",
              "    </tr>\n",
              "  </tbody>\n",
              "</table>\n",
              "<p>326 rows × 2 columns</p>\n",
              "</div>"
            ],
            "text/plain": [
              "     voto  quantidade\n",
              "0      13           1\n",
              "1      13           1\n",
              "2      13           1\n",
              "3      13           1\n",
              "4      13           1\n",
              "..    ...         ...\n",
              "321  nulo           1\n",
              "322  nulo           1\n",
              "323  nulo           1\n",
              "324  nulo           1\n",
              "325  nulo           1\n",
              "\n",
              "[326 rows x 2 columns]"
            ]
          },
          "execution_count": 19,
          "metadata": {},
          "output_type": "execute_result"
        }
      ],
      "source": [
        "votes_table"
      ]
    },
    {
      "cell_type": "code",
      "execution_count": 15,
      "metadata": {
        "id": "7Swsri4Nj3F2"
      },
      "outputs": [
        {
          "data": {
            "text/plain": [
              "(326, 2)"
            ]
          },
          "execution_count": 15,
          "metadata": {},
          "output_type": "execute_result"
        }
      ],
      "source": [
        "votes_table.shape"
      ]
    },
    {
      "cell_type": "code",
      "execution_count": 16,
      "metadata": {
        "id": "2qCTPCUBtdH1"
      },
      "outputs": [],
      "source": [
        "votes_table.to_csv(\"rdv.csv\", header=True, index=False)"
      ]
    },
    {
      "cell_type": "markdown",
      "metadata": {
        "id": "6poQ6YN7riqu"
      },
      "source": [
        "### **3.3. Agregação**"
      ]
    },
    {
      "cell_type": "markdown",
      "metadata": {
        "id": "ARISjCaFkQZX"
      },
      "source": [
        "Nesta etapa vamos agregagar os votos com uma operação matemática de soma."
      ]
    },
    {
      "cell_type": "code",
      "execution_count": 17,
      "metadata": {
        "id": "gkEJzWmdj72o"
      },
      "outputs": [],
      "source": [
        "votes_table_agg = votes_table.groupby('voto').agg('sum').reset_index()"
      ]
    },
    {
      "cell_type": "code",
      "execution_count": 18,
      "metadata": {
        "id": "dzeCL1gtkK2H"
      },
      "outputs": [
        {
          "data": {
            "text/html": [
              "<div>\n",
              "<style scoped>\n",
              "    .dataframe tbody tr th:only-of-type {\n",
              "        vertical-align: middle;\n",
              "    }\n",
              "\n",
              "    .dataframe tbody tr th {\n",
              "        vertical-align: top;\n",
              "    }\n",
              "\n",
              "    .dataframe thead th {\n",
              "        text-align: right;\n",
              "    }\n",
              "</style>\n",
              "<table border=\"1\" class=\"dataframe\">\n",
              "  <thead>\n",
              "    <tr style=\"text-align: right;\">\n",
              "      <th></th>\n",
              "      <th>voto</th>\n",
              "      <th>quantidade</th>\n",
              "    </tr>\n",
              "  </thead>\n",
              "  <tbody>\n",
              "    <tr>\n",
              "      <th>0</th>\n",
              "      <td>13</td>\n",
              "      <td>193</td>\n",
              "    </tr>\n",
              "    <tr>\n",
              "      <th>1</th>\n",
              "      <td>22</td>\n",
              "      <td>123</td>\n",
              "    </tr>\n",
              "    <tr>\n",
              "      <th>2</th>\n",
              "      <td>branco</td>\n",
              "      <td>5</td>\n",
              "    </tr>\n",
              "    <tr>\n",
              "      <th>3</th>\n",
              "      <td>nulo</td>\n",
              "      <td>5</td>\n",
              "    </tr>\n",
              "  </tbody>\n",
              "</table>\n",
              "</div>"
            ],
            "text/plain": [
              "     voto  quantidade\n",
              "0      13         193\n",
              "1      22         123\n",
              "2  branco           5\n",
              "3    nulo           5"
            ]
          },
          "execution_count": 18,
          "metadata": {},
          "output_type": "execute_result"
        }
      ],
      "source": [
        "votes_table_agg"
      ]
    },
    {
      "cell_type": "markdown",
      "metadata": {
        "id": "KCWacJbzkSc_"
      },
      "source": [
        "Nesta etapa vamos ordenar os dados agregados de forma decrescente, ou seja, da maior quantidade de votos para a menor."
      ]
    },
    {
      "cell_type": "code",
      "execution_count": 19,
      "metadata": {
        "id": "J9t3nD4ukTQC"
      },
      "outputs": [],
      "source": [
        "votes_table_agg = votes_table_agg.sort_values(by='quantidade', ascending=False)"
      ]
    },
    {
      "cell_type": "code",
      "execution_count": 20,
      "metadata": {
        "id": "mC7IT5eckdDI"
      },
      "outputs": [
        {
          "data": {
            "text/html": [
              "<div>\n",
              "<style scoped>\n",
              "    .dataframe tbody tr th:only-of-type {\n",
              "        vertical-align: middle;\n",
              "    }\n",
              "\n",
              "    .dataframe tbody tr th {\n",
              "        vertical-align: top;\n",
              "    }\n",
              "\n",
              "    .dataframe thead th {\n",
              "        text-align: right;\n",
              "    }\n",
              "</style>\n",
              "<table border=\"1\" class=\"dataframe\">\n",
              "  <thead>\n",
              "    <tr style=\"text-align: right;\">\n",
              "      <th></th>\n",
              "      <th>voto</th>\n",
              "      <th>quantidade</th>\n",
              "    </tr>\n",
              "  </thead>\n",
              "  <tbody>\n",
              "    <tr>\n",
              "      <th>0</th>\n",
              "      <td>13</td>\n",
              "      <td>193</td>\n",
              "    </tr>\n",
              "    <tr>\n",
              "      <th>1</th>\n",
              "      <td>22</td>\n",
              "      <td>123</td>\n",
              "    </tr>\n",
              "    <tr>\n",
              "      <th>2</th>\n",
              "      <td>branco</td>\n",
              "      <td>5</td>\n",
              "    </tr>\n",
              "    <tr>\n",
              "      <th>3</th>\n",
              "      <td>nulo</td>\n",
              "      <td>5</td>\n",
              "    </tr>\n",
              "  </tbody>\n",
              "</table>\n",
              "</div>"
            ],
            "text/plain": [
              "     voto  quantidade\n",
              "0      13         193\n",
              "1      22         123\n",
              "2  branco           5\n",
              "3    nulo           5"
            ]
          },
          "execution_count": 20,
          "metadata": {},
          "output_type": "execute_result"
        }
      ],
      "source": [
        "votes_table_agg"
      ]
    },
    {
      "cell_type": "markdown",
      "metadata": {
        "id": "MZ6CzHPTkg7X"
      },
      "source": [
        "Nesta etapa vamos adicionar uma coluna com os valores relativos percentuais da agregação dos dados."
      ]
    },
    {
      "cell_type": "code",
      "execution_count": 21,
      "metadata": {
        "id": "MgSv8oWKkiH2"
      },
      "outputs": [],
      "source": [
        "votes_table_agg['quantidade_pct'] = round(100 * (votes_table_agg['quantidade'] / votes_table_agg['quantidade'].sum()), 2)"
      ]
    },
    {
      "cell_type": "code",
      "execution_count": 22,
      "metadata": {
        "id": "lRxc6x1mlIGf"
      },
      "outputs": [
        {
          "data": {
            "text/html": [
              "<div>\n",
              "<style scoped>\n",
              "    .dataframe tbody tr th:only-of-type {\n",
              "        vertical-align: middle;\n",
              "    }\n",
              "\n",
              "    .dataframe tbody tr th {\n",
              "        vertical-align: top;\n",
              "    }\n",
              "\n",
              "    .dataframe thead th {\n",
              "        text-align: right;\n",
              "    }\n",
              "</style>\n",
              "<table border=\"1\" class=\"dataframe\">\n",
              "  <thead>\n",
              "    <tr style=\"text-align: right;\">\n",
              "      <th></th>\n",
              "      <th>voto</th>\n",
              "      <th>quantidade</th>\n",
              "      <th>quantidade_pct</th>\n",
              "    </tr>\n",
              "  </thead>\n",
              "  <tbody>\n",
              "    <tr>\n",
              "      <th>0</th>\n",
              "      <td>13</td>\n",
              "      <td>193</td>\n",
              "      <td>59.20</td>\n",
              "    </tr>\n",
              "    <tr>\n",
              "      <th>1</th>\n",
              "      <td>22</td>\n",
              "      <td>123</td>\n",
              "      <td>37.73</td>\n",
              "    </tr>\n",
              "    <tr>\n",
              "      <th>2</th>\n",
              "      <td>branco</td>\n",
              "      <td>5</td>\n",
              "      <td>1.53</td>\n",
              "    </tr>\n",
              "    <tr>\n",
              "      <th>3</th>\n",
              "      <td>nulo</td>\n",
              "      <td>5</td>\n",
              "      <td>1.53</td>\n",
              "    </tr>\n",
              "  </tbody>\n",
              "</table>\n",
              "</div>"
            ],
            "text/plain": [
              "     voto  quantidade  quantidade_pct\n",
              "0      13         193           59.20\n",
              "1      22         123           37.73\n",
              "2  branco           5            1.53\n",
              "3    nulo           5            1.53"
            ]
          },
          "execution_count": 22,
          "metadata": {},
          "output_type": "execute_result"
        }
      ],
      "source": [
        "votes_table_agg"
      ]
    },
    {
      "cell_type": "markdown",
      "metadata": {
        "id": "Yn0ButilmZOV"
      },
      "source": [
        "## 4\\. Visualização"
      ]
    },
    {
      "cell_type": "markdown",
      "metadata": {
        "id": "8ZmzZGzzlLJy"
      },
      "source": [
        "Nesta aula vamos visualizar os dados agregados."
      ]
    },
    {
      "cell_type": "code",
      "execution_count": 23,
      "metadata": {
        "id": "upkG1XXUn9aw"
      },
      "outputs": [
        {
          "data": {
            "text/html": [
              "<div>\n",
              "<style scoped>\n",
              "    .dataframe tbody tr th:only-of-type {\n",
              "        vertical-align: middle;\n",
              "    }\n",
              "\n",
              "    .dataframe tbody tr th {\n",
              "        vertical-align: top;\n",
              "    }\n",
              "\n",
              "    .dataframe thead th {\n",
              "        text-align: right;\n",
              "    }\n",
              "</style>\n",
              "<table border=\"1\" class=\"dataframe\">\n",
              "  <thead>\n",
              "    <tr style=\"text-align: right;\">\n",
              "      <th></th>\n",
              "      <th>voto</th>\n",
              "      <th>quantidade</th>\n",
              "      <th>quantidade_pct</th>\n",
              "    </tr>\n",
              "  </thead>\n",
              "  <tbody>\n",
              "    <tr>\n",
              "      <th>0</th>\n",
              "      <td>13</td>\n",
              "      <td>193</td>\n",
              "      <td>59.20</td>\n",
              "    </tr>\n",
              "    <tr>\n",
              "      <th>1</th>\n",
              "      <td>22</td>\n",
              "      <td>123</td>\n",
              "      <td>37.73</td>\n",
              "    </tr>\n",
              "    <tr>\n",
              "      <th>2</th>\n",
              "      <td>branco</td>\n",
              "      <td>5</td>\n",
              "      <td>1.53</td>\n",
              "    </tr>\n",
              "    <tr>\n",
              "      <th>3</th>\n",
              "      <td>nulo</td>\n",
              "      <td>5</td>\n",
              "      <td>1.53</td>\n",
              "    </tr>\n",
              "  </tbody>\n",
              "</table>\n",
              "</div>"
            ],
            "text/plain": [
              "     voto  quantidade  quantidade_pct\n",
              "0      13         193           59.20\n",
              "1      22         123           37.73\n",
              "2  branco           5            1.53\n",
              "3    nulo           5            1.53"
            ]
          },
          "execution_count": 23,
          "metadata": {},
          "output_type": "execute_result"
        }
      ],
      "source": [
        "votes_table_agg"
      ]
    },
    {
      "cell_type": "markdown",
      "metadata": {
        "id": "jomWZQ4wnYh7"
      },
      "source": [
        "### **4.1. Seaborn**"
      ]
    },
    {
      "cell_type": "markdown",
      "metadata": {
        "id": "cggXsefznzxn"
      },
      "source": [
        "Vamos utilizar o `Seaborn`, um dos pacotes **Python** mais utilizado para visualização de dados."
      ]
    },
    {
      "cell_type": "code",
      "execution_count": 24,
      "metadata": {
        "id": "pKTiZEq-lL-q"
      },
      "outputs": [],
      "source": [
        "import seaborn as sns"
      ]
    },
    {
      "cell_type": "code",
      "execution_count": 25,
      "metadata": {
        "id": "PTMFZ1jjmkew"
      },
      "outputs": [],
      "source": [
        "URNA = \"Florianópolis/SC - 13 - 542\""
      ]
    },
    {
      "cell_type": "markdown",
      "metadata": {
        "id": "qCcZEvdIp3qX"
      },
      "source": [
        "Nesta primeira visualização, vamos observar a **quantidade de votos absolutos**."
      ]
    },
    {
      "cell_type": "code",
      "execution_count": 26,
      "metadata": {
        "id": "1NndRl7Bq3yN"
      },
      "outputs": [],
      "source": [
        "x_column = 'voto'\n",
        "y_column = 'quantidade'"
      ]
    },
    {
      "cell_type": "code",
      "execution_count": 29,
      "metadata": {
        "id": "4PHyn-SAq3yO"
      },
      "outputs": [],
      "source": [
        "title = f'Apuração Presidente - Segundo turno de 2022 - Urna {URNA}'\n",
        "x_label = 'Voto'\n",
        "y_label = 'Quantidade'"
      ]
    },
    {
      "cell_type": "code",
      "execution_count": 30,
      "metadata": {
        "id": "1FkWOYQ0lWIi"
      },
      "outputs": [
        {
          "data": {
            "image/png": "[encoded data removed]",
            "text/plain": [
              "<Figure size 432x288 with 1 Axes>"
            ]
          },
          "metadata": {},
          "output_type": "display_data"
        }
      ],
      "source": [
        "with sns.axes_style('whitegrid'):\n",
        "  chart = sns.barplot(data=votes_table_agg, x=x_column, y=y_column)\n",
        "  chart.set(title=title, xlabel=x_lable, ylabel=y_lable);"
      ]
    },
    {
      "cell_type": "markdown",
      "metadata": {
        "id": "C8SJN63Qp5FC"
      },
      "source": [
        "Nesta segunda visualização, vamos observar a **quantidade de votos relativos**."
      ]
    },
    {
      "cell_type": "code",
      "execution_count": 31,
      "metadata": {
        "id": "iOXiDL_UqtnQ"
      },
      "outputs": [],
      "source": [
        "x_column = 'voto'\n",
        "y_column = 'quantidade_pct'"
      ]
    },
    {
      "cell_type": "code",
      "execution_count": 32,
      "metadata": {
        "id": "aMy65iinqEHJ"
      },
      "outputs": [],
      "source": [
        "title = f'Apuração Presidente - Segundo turno de 2022 - Urna {URNA}'\n",
        "x_label = 'Voto'\n",
        "y_label = 'Quantidade (%)'"
      ]
    },
    {
      "cell_type": "code",
      "execution_count": 35,
      "metadata": {
        "id": "2421F39nmDy4"
      },
      "outputs": [
        {
          "data": {
            "image/png": "[encoded data removed]",
            "text/plain": [
              "<Figure size 432x288 with 1 Axes>"
            ]
          },
          "metadata": {},
          "output_type": "display_data"
        }
      ],
      "source": [
        "with sns.axes_style('whitegrid'):\n",
        "  chart = sns.barplot(data=votes_table_agg, x=x_column, y=y_column)\n",
        "  chart.set(title=title, xlabel=x_label, ylabel=y_label);"
      ]
    },
    {
      "cell_type": "markdown",
      "metadata": {
        "id": "6k-4cGE8mvep"
      },
      "source": [
        "## 5\\. Divulgação"
      ]
    },
    {
      "cell_type": "markdown",
      "metadata": {
        "id": "k_JoHgsBnVFX"
      },
      "source": [
        "Nesta aula vamos aprender a expor o nossa análise de dados."
      ]
    },
    {
      "cell_type": "markdown",
      "metadata": {
        "id": "s9IZBReZnNAi"
      },
      "source": [
        "### **5.1. Kaggle**"
      ]
    },
    {
      "cell_type": "markdown",
      "metadata": {
        "id": "xnsoZc_wI0sl"
      },
      "source": [
        "[Kaggle](https://www.kaggle.com/) é a maior comunidade online de ciência de dados e aprendizado de máquina. A plataforma permite que usuários encontrem e publiquem **conjuntos de dados**, construam e compartilhem **notebooks** (como este do Google Colab) e participem de **competições** (que pagam muito dinheiro as vezes). "
      ]
    },
    {
      "cell_type": "markdown",
      "metadata": {
        "id": "7BqRKqRGJ0i2"
      },
      "source": [
        "> Vamos publicar nosso **notebook** na plataforma web do Kaggle para que você possa compartilhar tudo o que você aprendeu nestas aulas e compor o seu portfólio."
      ]
    },
    {
      "cell_type": "markdown",
      "metadata": {
        "id": "X0YmFIsjEjRK"
      },
      "source": [
        " - Crie uma conta no Kaggle;\n",
        " - Faça o *download* do *notebook* do Google Colab;\n",
        " - Faça o *upload* do *notebook* no Kaggle."
      ]
    }
  ],
  "metadata": {
    "colab": {
      "provenance": [],
      "toc_visible": true
    },
    "kernelspec": {
      "display_name": "Python 3",
      "name": "python3"
    },
    "language_info": {
      "codemirror_mode": {
        "name": "ipython",
        "version": 3
      },
      "file_extension": ".py",
      "mimetype": "text/x-python",
      "name": "python",
      "nbconvert_exporter": "python",
      "pygments_lexer": "ipython3",
      "version": "3.7.6"
    }
  },
  "nbformat": 4,
  "nbformat_minor": 0
}
